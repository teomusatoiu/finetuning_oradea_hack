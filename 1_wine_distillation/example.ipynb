{
 "cells": [
  {
   "cell_type": "markdown",
   "metadata": {},
   "source": [
    "# Wine Distillation - Leverage outputs of a large model to distill a smaller one\n",
    "\n",
    "OpenAI recently released Distillation which allows to leverage the outputs of a (large) model to fine-tune another (smaller) model. This can significantly reduce the price and the latency for specific tasks as you move to a smaller model. In this exercise we'll look at a dataset, distill the output of `gpt-4o` to `gpt-4o-mini` and show how we can get significantly better results than on a generic, non-distilled, `4o-mini`.\n",
    "\n"
   ]
  },
  {
   "cell_type": "markdown",
   "metadata": {},
   "source": [
    "## Overview\n",
    "\n",
    "This notebook contains three sections: \n",
    "1. **Assessing a baseline**: Evaluating an out of the box `gpt-4o-mini` and `gpt-4o` models and understand performance\n",
    "3. **Distillation**: Store the good completions and create a dataset for fine tuning your smaller model. \n",
    "4. **Extension**: If you finished the exercise and still have some time, you can try these ideas! "
   ]
  },
  {
   "cell_type": "markdown",
   "metadata": {},
   "source": [
    "## 1. Assessing a baseline for funtion calling \n",
    "\n",
    "When Fine Tuning a model, it's important to understand what your starting point is. For this exercise we'll be using this [Wine Reviews Dataset](https://www.kaggle.com/datasets/zynicide/wine-reviews) from Kaggle. This dataset has a large number of rows and you're free to run this cookbook on the whole data, but to speed things up, I'll narrow down the dataset to only French wine to focus on less rows and grape varieties.\n",
    "\n",
    "We're looking at a classification problem where we'd like to guess the grape variety based on all other criterias available, including description, subregion and province that we'll include in the prompt. It gives a lot of information to the model, you're free to also remove some information that can help significantly the model such as the region in which it was produced to see if it does a good job at finding the grape."
   ]
  },
  {
   "cell_type": "code",
   "execution_count": 6,
   "metadata": {},
   "outputs": [
    {
     "name": "stdout",
     "output_type": "stream",
     "text": [
      "\n",
      "\u001b[1m[\u001b[0m\u001b[34;49mnotice\u001b[0m\u001b[1;39;49m]\u001b[0m\u001b[39;49m A new release of pip is available: \u001b[0m\u001b[31;49m24.0\u001b[0m\u001b[39;49m -> \u001b[0m\u001b[32;49m24.2\u001b[0m\n",
      "\u001b[1m[\u001b[0m\u001b[34;49mnotice\u001b[0m\u001b[1;39;49m]\u001b[0m\u001b[39;49m To update, run: \u001b[0m\u001b[32;49mpip install --upgrade pip\u001b[0m\n",
      "Note: you may need to restart the kernel to use updated packages.\n"
     ]
    }
   ],
   "source": [
    "%pip install kagglehub -q"
   ]
  },
  {
   "cell_type": "code",
   "execution_count": 14,
   "metadata": {},
   "outputs": [],
   "source": [
    "import openai\n",
    "import json\n",
    "import pandas as pd\n",
    "import numpy as np\n",
    "\n",
    "client = openai.OpenAI()"
   ]
  },
  {
   "cell_type": "code",
   "execution_count": 15,
   "metadata": {},
   "outputs": [
    {
     "data": {
      "text/html": [
       "<div>\n",
       "<style scoped>\n",
       "    .dataframe tbody tr th:only-of-type {\n",
       "        vertical-align: middle;\n",
       "    }\n",
       "\n",
       "    .dataframe tbody tr th {\n",
       "        vertical-align: top;\n",
       "    }\n",
       "\n",
       "    .dataframe thead th {\n",
       "        text-align: right;\n",
       "    }\n",
       "</style>\n",
       "<table border=\"1\" class=\"dataframe\">\n",
       "  <thead>\n",
       "    <tr style=\"text-align: right;\">\n",
       "      <th></th>\n",
       "      <th>Unnamed: 0</th>\n",
       "      <th>country</th>\n",
       "      <th>description</th>\n",
       "      <th>designation</th>\n",
       "      <th>points</th>\n",
       "      <th>price</th>\n",
       "      <th>province</th>\n",
       "      <th>region_1</th>\n",
       "      <th>region_2</th>\n",
       "      <th>taster_name</th>\n",
       "      <th>taster_twitter_handle</th>\n",
       "      <th>title</th>\n",
       "      <th>variety</th>\n",
       "      <th>winery</th>\n",
       "    </tr>\n",
       "  </thead>\n",
       "  <tbody>\n",
       "    <tr>\n",
       "      <th>35316</th>\n",
       "      <td>35316</td>\n",
       "      <td>France</td>\n",
       "      <td>This juicy wine has red berry flavors and a se...</td>\n",
       "      <td>NaN</td>\n",
       "      <td>85</td>\n",
       "      <td>12.0</td>\n",
       "      <td>Bordeaux</td>\n",
       "      <td>Bordeaux</td>\n",
       "      <td>NaN</td>\n",
       "      <td>Roger Voss</td>\n",
       "      <td>@vossroger</td>\n",
       "      <td>Château Haut Brande 2012  Bordeaux</td>\n",
       "      <td>Bordeaux-style Red Blend</td>\n",
       "      <td>Château Haut Brande</td>\n",
       "    </tr>\n",
       "    <tr>\n",
       "      <th>47803</th>\n",
       "      <td>47803</td>\n",
       "      <td>France</td>\n",
       "      <td>Perfumed with wood flavors, this is a dry wine...</td>\n",
       "      <td>F de Frédignac</td>\n",
       "      <td>88</td>\n",
       "      <td>20.0</td>\n",
       "      <td>Bordeaux</td>\n",
       "      <td>Blaye Côtes de Bordeaux</td>\n",
       "      <td>NaN</td>\n",
       "      <td>Roger Voss</td>\n",
       "      <td>@vossroger</td>\n",
       "      <td>Château Frédignac 2014 F de Frédignac  (Blaye ...</td>\n",
       "      <td>Bordeaux-style Red Blend</td>\n",
       "      <td>Château Frédignac</td>\n",
       "    </tr>\n",
       "    <tr>\n",
       "      <th>89218</th>\n",
       "      <td>89218</td>\n",
       "      <td>France</td>\n",
       "      <td>This is a soft wine, full of ripe apple and wh...</td>\n",
       "      <td>NaN</td>\n",
       "      <td>88</td>\n",
       "      <td>19.0</td>\n",
       "      <td>Loire Valley</td>\n",
       "      <td>Quincy</td>\n",
       "      <td>NaN</td>\n",
       "      <td>Roger Voss</td>\n",
       "      <td>@vossroger</td>\n",
       "      <td>Jean-Claude Roux 2014  Quincy</td>\n",
       "      <td>Sauvignon Blanc</td>\n",
       "      <td>Jean-Claude Roux</td>\n",
       "    </tr>\n",
       "    <tr>\n",
       "      <th>44351</th>\n",
       "      <td>44351</td>\n",
       "      <td>France</td>\n",
       "      <td>Intensely rich in character, touched lightly b...</td>\n",
       "      <td>NaN</td>\n",
       "      <td>92</td>\n",
       "      <td>NaN</td>\n",
       "      <td>Bordeaux</td>\n",
       "      <td>Barsac</td>\n",
       "      <td>NaN</td>\n",
       "      <td>Roger Voss</td>\n",
       "      <td>@vossroger</td>\n",
       "      <td>Château Doisy-Védrines 2007  Barsac</td>\n",
       "      <td>Bordeaux-style White Blend</td>\n",
       "      <td>Château Doisy-Védrines</td>\n",
       "    </tr>\n",
       "    <tr>\n",
       "      <th>63749</th>\n",
       "      <td>63749</td>\n",
       "      <td>France</td>\n",
       "      <td>An austere wine, serious and densely dry. It h...</td>\n",
       "      <td>NaN</td>\n",
       "      <td>84</td>\n",
       "      <td>18.0</td>\n",
       "      <td>Bordeaux</td>\n",
       "      <td>Haut-Médoc</td>\n",
       "      <td>NaN</td>\n",
       "      <td>Roger Voss</td>\n",
       "      <td>@vossroger</td>\n",
       "      <td>Château Lanessan 2011  Haut-Médoc</td>\n",
       "      <td>Bordeaux-style Red Blend</td>\n",
       "      <td>Château Lanessan</td>\n",
       "    </tr>\n",
       "  </tbody>\n",
       "</table>\n",
       "</div>"
      ],
      "text/plain": [
       "       Unnamed: 0 country                                        description  \\\n",
       "35316       35316  France  This juicy wine has red berry flavors and a se...   \n",
       "47803       47803  France  Perfumed with wood flavors, this is a dry wine...   \n",
       "89218       89218  France  This is a soft wine, full of ripe apple and wh...   \n",
       "44351       44351  France  Intensely rich in character, touched lightly b...   \n",
       "63749       63749  France  An austere wine, serious and densely dry. It h...   \n",
       "\n",
       "          designation  points  price      province                 region_1  \\\n",
       "35316             NaN      85   12.0      Bordeaux                 Bordeaux   \n",
       "47803  F de Frédignac      88   20.0      Bordeaux  Blaye Côtes de Bordeaux   \n",
       "89218             NaN      88   19.0  Loire Valley                   Quincy   \n",
       "44351             NaN      92    NaN      Bordeaux                   Barsac   \n",
       "63749             NaN      84   18.0      Bordeaux               Haut-Médoc   \n",
       "\n",
       "      region_2 taster_name taster_twitter_handle  \\\n",
       "35316      NaN  Roger Voss            @vossroger   \n",
       "47803      NaN  Roger Voss            @vossroger   \n",
       "89218      NaN  Roger Voss            @vossroger   \n",
       "44351      NaN  Roger Voss            @vossroger   \n",
       "63749      NaN  Roger Voss            @vossroger   \n",
       "\n",
       "                                                   title  \\\n",
       "35316                 Château Haut Brande 2012  Bordeaux   \n",
       "47803  Château Frédignac 2014 F de Frédignac  (Blaye ...   \n",
       "89218                      Jean-Claude Roux 2014  Quincy   \n",
       "44351                Château Doisy-Védrines 2007  Barsac   \n",
       "63749                  Château Lanessan 2011  Haut-Médoc   \n",
       "\n",
       "                          variety                  winery  \n",
       "35316    Bordeaux-style Red Blend     Château Haut Brande  \n",
       "47803    Bordeaux-style Red Blend       Château Frédignac  \n",
       "89218             Sauvignon Blanc        Jean-Claude Roux  \n",
       "44351  Bordeaux-style White Blend  Château Doisy-Védrines  \n",
       "63749    Bordeaux-style Red Blend        Château Lanessan  "
      ]
     },
     "execution_count": 15,
     "metadata": {},
     "output_type": "execute_result"
    }
   ],
   "source": [
    "df = pd.read_csv('data/winemag-data-130k-v2.csv')\n",
    "df_france = df[df['country'] == 'France']\n",
    "\n",
    "# Let's also filter out wines that have less than 5 references with their grape variety – even though we'd like to find those\n",
    "# they're outliers that we don't want to optimize for that would make our enum list be too long\n",
    "# and they could also add noise for the rest of the dataset on which we'd like to guess, eventually reducing our accuracy.\n",
    "\n",
    "varieties_less_than_five_list = df_france['variety'].value_counts()[df_france['variety'].value_counts() < 5].index.tolist()\n",
    "df_france = df_france[~df_france['variety'].isin(varieties_less_than_five_list)]\n",
    "\n",
    "df_france_subset = df_france.sample(n=500)\n",
    "df_france_subset.head()"
   ]
  },
  {
   "cell_type": "code",
   "execution_count": 16,
   "metadata": {},
   "outputs": [
    {
     "data": {
      "text/plain": [
       "array(['Gewürztraminer', 'Pinot Gris', 'Gamay',\n",
       "       'Bordeaux-style White Blend', 'Champagne Blend', 'Chardonnay',\n",
       "       'Petit Manseng', 'Riesling', 'White Blend', 'Pinot Blanc',\n",
       "       'Alsace white blend', 'Bordeaux-style Red Blend', 'Malbec',\n",
       "       'Tannat-Cabernet', 'Rhône-style Red Blend', 'Ugni Blanc-Colombard',\n",
       "       'Savagnin', 'Pinot Noir', 'Rosé', 'Melon',\n",
       "       'Rhône-style White Blend', 'Pinot Noir-Gamay', 'Colombard',\n",
       "       'Chenin Blanc', 'Sylvaner', 'Sauvignon Blanc', 'Red Blend',\n",
       "       'Chenin Blanc-Chardonnay', 'Cabernet Sauvignon', 'Cabernet Franc',\n",
       "       'Syrah', 'Sparkling Blend', 'Duras', 'Provence red blend',\n",
       "       'Tannat', 'Merlot', 'Malbec-Merlot', 'Chardonnay-Viognier',\n",
       "       'Cabernet Franc-Cabernet Sauvignon', 'Muscat', 'Viognier',\n",
       "       'Picpoul', 'Altesse', 'Provence white blend', 'Mondeuse',\n",
       "       'Grenache-Syrah', 'G-S-M', 'Pinot Meunier', 'Cabernet-Syrah',\n",
       "       'Vermentino', 'Marsanne', 'Colombard-Sauvignon Blanc',\n",
       "       'Gros and Petit Manseng', 'Jacquère', 'Negrette', 'Mauzac',\n",
       "       'Pinot Auxerrois', 'Grenache', 'Roussanne', 'Gros Manseng',\n",
       "       'Tannat-Merlot', 'Aligoté', 'Chasselas', \"Loin de l'Oeil\",\n",
       "       'Malbec-Tannat', 'Carignan', 'Colombard-Ugni Blanc', 'Sémillon',\n",
       "       'Syrah-Grenache', 'Sciaccerellu', 'Auxerrois', 'Mourvèdre',\n",
       "       'Tannat-Cabernet Franc', 'Braucol', 'Trousseau',\n",
       "       'Merlot-Cabernet Sauvignon'], dtype='<U33')"
      ]
     },
     "execution_count": 16,
     "metadata": {},
     "output_type": "execute_result"
    }
   ],
   "source": [
    "varieties = np.array(df_france['variety'].unique()).astype('str')\n",
    "varieties"
   ]
  },
  {
   "cell_type": "code",
   "execution_count": 17,
   "metadata": {},
   "outputs": [],
   "source": [
    "########## ToDo: Test how well 4o-mini and 4o can classify these wines based on the reviews. ##########"
   ]
  },
  {
   "cell_type": "markdown",
   "metadata": {},
   "source": [
    "## 2. Distillation \n",
    "\n",
    "It is very clear that 4o performs better than 4o-mini for this type of task. Now let's see if we can use our completions for 4o to distill the 4o-mini model. [This section](https://platform.openai.com/docs/guides/evals/generate-datasets-from-real-traffic) of our docs shows how you can start storing your completions. "
   ]
  },
  {
   "cell_type": "code",
   "execution_count": 18,
   "metadata": {},
   "outputs": [],
   "source": [
    "########## ToDo: Code to store your completions ##########"
   ]
  },
  {
   "cell_type": "markdown",
   "metadata": {},
   "source": [
    "Now you need to go into your [ChatCOmpletions](https://platform.openai.com/chat-completions) front end, create your dataset and start a distillation process. "
   ]
  },
  {
   "cell_type": "code",
   "execution_count": 19,
   "metadata": {},
   "outputs": [],
   "source": [
    "########## ToDo: Code to retrieve your fine tune job based on its ft id.  ##########"
   ]
  },
  {
   "cell_type": "code",
   "execution_count": 20,
   "metadata": {},
   "outputs": [],
   "source": [
    "########## ToDo: Code to check the performance of your distilled model.  ##########"
   ]
  },
  {
   "cell_type": "markdown",
   "metadata": {},
   "source": [
    "## 3. Extentions \n",
    "\n",
    "If you've already completed the execise above, congratulations! Here are a few ideas on how to turn this into a more exciting project: \n",
    "\n",
    "1. Compare distillation with simple fine tuning. Anything you're noticing? \n",
    "2. Build a RAG system that can give you wine recommendations based on a customer request. \n",
    "3. Build a front end application where you can visualise this chatbot. "
   ]
  },
  {
   "cell_type": "markdown",
   "metadata": {},
   "source": [
    "## Conclusion \n",
    "\n",
    "Congratulations on getting this far! Now you have a better understanding of what distillation is. You can think about more usecases where distillation may be useful. Keen to see what you'll be building! "
   ]
  }
 ],
 "metadata": {
  "kernelspec": {
   "display_name": "Python 3",
   "language": "python",
   "name": "python3"
  },
  "language_info": {
   "codemirror_mode": {
    "name": "ipython",
    "version": 3
   },
   "file_extension": ".py",
   "mimetype": "text/x-python",
   "name": "python",
   "nbconvert_exporter": "python",
   "pygments_lexer": "ipython3",
   "version": "3.11.7"
  }
 },
 "nbformat": 4,
 "nbformat_minor": 2
}
